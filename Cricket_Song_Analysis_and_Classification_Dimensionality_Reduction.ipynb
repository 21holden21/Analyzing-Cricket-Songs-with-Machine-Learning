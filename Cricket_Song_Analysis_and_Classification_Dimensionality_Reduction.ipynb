{
  "cells": [
    {
      "cell_type": "markdown",
      "metadata": {
        "id": "view-in-github",
        "colab_type": "text"
      },
      "source": [
        "<a href=\"https://colab.research.google.com/github/21holden21/Analyzing-Cricket-Songs-with-Machine-Learning/blob/main/Cricket_Song_Analysis_and_Classification_Dimensionality_Reduction.ipynb\" target=\"_parent\"><img src=\"https://colab.research.google.com/assets/colab-badge.svg\" alt=\"Open In Colab\"/></a>"
      ]
    },
    {
      "cell_type": "markdown",
      "source": [
        "# Initial Setup/Loading the Audio Files into Waveforms"
      ],
      "metadata": {
        "id": "7j2sBeuwEu4d"
      }
    },
    {
      "cell_type": "code",
      "execution_count": null,
      "metadata": {
        "colab": {
          "base_uri": "https://localhost:8080/"
        },
        "id": "UIbjx1gqszlr",
        "outputId": "fd1c4cbf-38a0-4b52-b0d8-f9eac420780e"
      },
      "outputs": [
        {
          "output_type": "stream",
          "name": "stdout",
          "text": [
            "Mounted at /content/drive\n"
          ]
        }
      ],
      "source": [
        "##mount to Google Drive to read in audio files from shared drive/create mel spectrograms/MFCCs/magnitude power spectrums and put inside shared drive\n",
        "from google.colab import drive\n",
        "drive.mount('/content/drive')"
      ]
    },
    {
      "cell_type": "code",
      "execution_count": null,
      "metadata": {
        "id": "G3egc6gU4SgR"
      },
      "outputs": [],
      "source": [
        "import librosa #to extract audio features from raw audio .wav files\n",
        "import librosa.display #to display extracted audio features\n",
        "import numpy as np #for matrix manipulations\n",
        "import matplotlib.pyplot as plt #to visualize audio features\n",
        "import matplotlib as mpl #for color mapping\n",
        "import os #to locate files\n",
        "from sklearn.manifold import TSNE #to use t-sne DR technique\n",
        "from sklearn.decomposition import PCA #PCA'd results are pushed into t-SNE algorithm"
      ]
    },
    {
      "cell_type": "code",
      "execution_count": null,
      "metadata": {
        "id": "EpKx3P4ysls5"
      },
      "outputs": [],
      "source": [
        "##Loading the cricket audio .wav files into waveform list\n",
        "wav_dir = \"/content/drive/Shareddrives/Analyzing Cricket Songs with Machine Learning/.wav Files/\"\n",
        "\n",
        "waveform_list = []\n",
        "num_iter = 0\n",
        "\n",
        "cricket_names = [] ##use parallel array to keep track of cricket name for each audio file\n",
        "\n",
        "for wav_file in sorted(os.listdir(wav_dir)):  \n",
        "  num_iter += 1\n",
        "  print(\"ITERATION NUMBER: \", str(num_iter))\n",
        "\n",
        "  if wav_file.find(\"Xenogryllus\") != -1 and wav_file.find(\"(MCL)\") != -1: ##Xenogryllus MCL files (no species name) assumed to be Xenogryllus uniparitus species\n",
        "     cricket_names.append(\"Xenogryllus\" + \" \" + \"unipartitus\" +  \" \" + \"MCL\")\n",
        "  else:\n",
        "     split_file = wav_file.split(\" \")\n",
        "     if wav_file.find(\"MCL\") != -1: ##if file is from MCL\n",
        "      cricket_names.append(split_file[0] + \" \" + split_file[1] + \" \" + \"MCL\")\n",
        "     else: ##if file is from SINA\n",
        "      cricket_names.append(split_file[0] + \" \" + split_file[1] + \" \" + \"SINA\")\n",
        "      \n",
        "  #create waveform from .wav file\n",
        "  waveform, sr = librosa.load(wav_dir + wav_file)\n",
        "  waveform_list.append(waveform)"
      ]
    },
    {
      "cell_type": "code",
      "execution_count": null,
      "metadata": {
        "colab": {
          "base_uri": "https://localhost:8080/"
        },
        "id": "H77jOB1LCsLW",
        "outputId": "576026c0-3c82-4529-920d-ec48531b496a"
      },
      "outputs": [
        {
          "output_type": "stream",
          "name": "stdout",
          "text": [
            "['Acheta domesticus SINA', 'Acheta domesticus MCL', 'Acheta domesticus MCL', 'Acheta domesticus MCL', 'Acheta domesticus MCL', 'Allonemobius allardi SINA', 'Allonemobius allardi MCL', 'Allonemobius allardi MCL', 'Allonemobius allardi MCL', 'Allonemobius allardi MCL', 'Allonemobius fasciatus SINA', 'Allonemobius fasciatus MCL', 'Allonemobius fasciatus MCL', 'Allonemobius fasciatus MCL', 'Allonemobius fasciatus MCL', 'Allonemobius fultoni SINA', 'Allonemobius fultoni MCL', 'Allonemobius fultoni MCL', 'Allonemobius fultoni MCL', 'Allonemobius griseus SINA', 'Allonemobius griseus MCL', 'Allonemobius griseus MCL', 'Allonemobius griseus MCL', 'Allonemobius maculatus SINA', 'Allonemobius maculatus MCL', 'Allonemobius maculatus MCL', 'Allonemobius maculatus MCL', 'Allonemobius shalontaki MCL', 'Allonemobius shalontaki SINA', 'Allonemobius socius SINA', 'Allonemobius socius MCL', 'Allonemobius socius MCL', 'Allonemobius socius MCL', 'Allonemobius socius MCL', 'Allonemobius sparsalus SINA', 'Allonemobius sparsalus MCL', 'Allonemobius sparsalus MCL', 'Allonemobius tinnulus SINA', 'Allonemobius tinnulus MCL', 'Allonemobius tinnulus MCL', 'Allonemobius tinnulus MCL', 'Allonemobius tinnulus MCL', 'Allonemobius walkeri SINA', 'Allonemobius walkeri MCL', 'Allonemobius walkeri MCL', 'Allonemobius walkeri MCL', 'Anaxipha calusa SINA', 'Anaxipha delicatula SINA', 'Anaxipha delicatula MCL', 'Anaxipha delicatula MCL', 'Anaxipha delicatula MCL', 'Anaxipha delicatula MCL', 'Anaxipha exigua SINA', 'Anaxipha exigua MCL', 'Anaxipha exigua MCL', 'Anaxipha exigua MCL', 'Anaxipha exigua MCL', 'Anaxipha fultoni SINA', 'Anaxipha imitator SINA', 'Anaxipha imitator MCL', 'Anaxipha imitator MCL', 'Anaxipha imitator MCL', 'Anaxipha imitator MCL', 'Anaxipha litarena SINA', 'Anaxipha litarena MCL', 'Anaxipha litarena MCL', 'Anaxipha litarena MCL', 'Anaxipha rosamacula SINA', 'Anaxipha scia SINA', 'Anaxipha scia MCL', 'Anaxipha scia MCL', 'Anaxipha scia MCL', 'Anaxipha thomasi SINA', 'Anaxipha thomasi MCL', 'Anaxipha tinnula SINA', 'Anaxipha tinnulacita SINA', 'Anaxipha tinnulenta SINA', 'Anaxipha vernalis SINA', 'Anaxipha vernalis MCL', 'Anaxipha vernalis MCL', 'Antillicharis facetus MCL', 'Antillicharis facetus MCL', 'Antillicharis oriobates SINA', 'Anurogryllus arboreus SINA', 'Anurogryllus celerinictus SINA', 'Cycloptilum ainiktos SINA', 'Cycloptilum ainiktos MCL', 'Cycloptilum ainiktos MCL', 'Cycloptilum ainiktos MCL', 'Cycloptilum albocircum SINA', 'Cycloptilum albocircum MCL', 'Cycloptilum albocircum MCL', 'Cycloptilum albocircum MCL', 'Cycloptilum albocircum MCL', 'Cycloptilum bidens SINA', 'Cycloptilum bidens MCL', 'Cycloptilum bidens MCL', 'Cycloptilum bidens MCL', 'Cycloptilum comprehendens SINA', 'Cycloptilum comprehendens MCL', 'Cycloptilum comprehendens MCL', 'Cycloptilum comprehendens MCL', 'Cycloptilum exsanguis SINA', 'Cycloptilum exsanguis MCL', 'Cycloptilum exsanguis MCL', 'Cycloptilum exsanguis MCL', 'Cycloptilum exsanguis MCL', 'Cycloptilum irregularis SINA', 'Cycloptilum irregularis MCL', 'Cycloptilum irregularis MCL', 'Cycloptilum irregularis MCL', 'Cycloptilum irregularis MCL', 'Cycloptilum kelainopum SINA', 'Cycloptilum kelainopum MCL', 'Cycloptilum kelainopum MCL', 'Cycloptilum kelainopum MCL', 'Cycloptilum kelainopum MCL', 'Cycloptilum pigrum SINA', 'Cycloptilum pigrum MCL', 'Cycloptilum pigrum MCL', 'Cycloptilum pigrum MCL', 'Cycloptilum quatrainum SINA', 'Cycloptilum quatrainum MCL', 'Cycloptilum quatrainum MCL', 'Cycloptilum quatrainum MCL', 'Cycloptilum slossoni SINA', 'Cycloptilum slossoni MCL', 'Cycloptilum slossoni MCL', 'Cycloptilum slossoni MCL', 'Cycloptilum spectabile SINA', 'Cycloptilum spectabile MCL', 'Cycloptilum spectabile MCL', 'Cycloptilum spectabile MCL', 'Cycloptilum squamosum SINA', 'Cycloptilum squamosum MCL', 'Cycloptilum squamosum MCL', 'Cycloptilum squamosum MCL', 'Cycloptilum squamosum MCL', 'Cycloptilum tardum SINA', 'Cycloptilum tardum MCL', 'Cycloptilum tardum MCL', 'Cycloptilum tardum MCL', 'Cycloptilum tardum MCL', 'Cycloptilum trigonipalpum SINA', 'Cycloptilum trigonipalpum MCL', 'Cycloptilum trigonipalpum MCL', 'Cycloptilum trigonipalpum MCL', 'Cycloptilum trigonipalpum MCL', 'Cycloptilum velox SINA', 'Cycloptilum velox MCL', 'Cycloptilum velox MCL', 'Cycloptilum velox MCL', 'Cycloptilum zebra SINA', 'Cycloptilum zebra MCL', 'Cycloptilum zebra MCL', 'Cycloptilum zebra MCL', 'Cycloptilum zebra MCL', 'Cyrtoxipha columbiana SINA', 'Cyrtoxipha columbiana MCL', 'Cyrtoxipha columbiana MCL', 'Cyrtoxipha columbiana MCL', 'Cyrtoxipha confusa SINA', 'Cyrtoxipha confusa MCL', 'Cyrtoxipha confusa MCL', 'Cyrtoxipha confusa MCL', 'Cyrtoxipha gundlachi SINA', 'Cyrtoxipha gundlachi MCL', 'Cyrtoxipha gundlachi MCL', 'Cyrtoxipha gundlachi MCL', 'Cyrtoxipha nola SINA', 'Cyrtoxipha nola MCL', 'Cyrtoxipha nola MCL', 'Cyrtoxipha nola MCL', 'Cyrtoxipha nola MCL', 'Eunemobius carolinus SINA', 'Eunemobius carolinus MCL', 'Eunemobius carolinus MCL', 'Eunemobius carolinus MCL', 'Eunemobius carolinus MCL', 'Eunemobius confusus SINA', 'Eunemobius confusus MCL', 'Eunemobius confusus MCL', 'Eunemobius confusus MCL', 'Eunemobius confusus MCL', 'Eunemobius melodius SINA', 'Eunemobius melodius MCL', 'Eunemobius melodius MCL', 'Eunemobius melodius MCL', 'Eunemobius melodius MCL', 'Gryllita arizonae SINA', 'Gryllodes sigillatus SINA', 'Gryllotalpa gryllotalpa MCL', 'Gryllotalpa gryllotalpa SINA', 'Gryllotalpa major SINA', 'Gryllotalpa major MCL', 'Gryllotalpa major MCL', 'Gryllotalpa major MCL', 'Gryllotalpa major MCL', 'Gryllotalpa major MCL', 'Gryllus armatus SINA', 'Gryllus assimilis SINA', 'Gryllus brevicaudus SINA', 'Gryllus cayensis SINA', 'Gryllus chisosensis SINA', 'Gryllus cohni SINA', 'Gryllus firmus SINA', 'Gryllus firmus MCL', 'Gryllus firmus MCL', 'Gryllus firmus MCL', 'Gryllus firmus MCL', 'Gryllus fultoni SINA', 'Gryllus fultoni MCL', 'Gryllus fultoni MCL', 'Gryllus fultoni MCL', 'Gryllus fultoni MCL', 'Gryllus integer SINA', 'Gryllus integer MCL', 'Gryllus integer MCL', 'Gryllus integer MCL', 'Gryllus integer MCL', 'Gryllus integer MCL', 'Gryllus leei SINA', 'Gryllus lightfooti SINA', 'Gryllus lineaticeps SINA', 'Gryllus longicercus SINA', 'Gryllus makhosica SINA', 'Gryllus montis SINA', 'Gryllus multipulsator SINA', 'Gryllus navajo SINA', 'Gryllus ovisopis SINA', 'Gryllus ovisopis MCL', 'Gryllus ovisopis MCL', 'Gryllus ovisopis MCL', 'Gryllus ovisopis MCL', 'Gryllus ovisopis MCL', 'Gryllus pennsylvanicus SINA', 'Gryllus pennsylvanicus MCL', 'Gryllus pennsylvanicus MCL', 'Gryllus pennsylvanicus MCL', 'Gryllus pennsylvanicus MCL', 'Gryllus pennsylvanicus MCL', 'Gryllus personatus SINA', 'Gryllus planeta SINA', 'Gryllus regularis SINA', 'Gryllus rubens SINA', 'Gryllus rubens MCL', 'Gryllus rubens MCL', 'Gryllus rubens MCL', 'Gryllus rubens MCL', 'Gryllus rubens MCL', 'Gryllus saxatilis SINA', 'Gryllus sotol SINA', 'Gryllus staccato SINA', 'Gryllus texensis SINA', 'Gryllus texensis MCL', 'Gryllus texensis MCL', 'Gryllus texensis MCL', 'Gryllus texensis MCL', 'Gryllus thinos SINA', 'Gryllus transpecos SINA', 'Gryllus veintinueve SINA', 'Gryllus veletis SINA', 'Gryllus veletis MCL', 'Gryllus veletis MCL', 'Gryllus veletis MCL', 'Gryllus vernalis SINA', 'Gryllus vernalis MCL', 'Gryllus vernalis MCL', 'Gryllus vernalis MCL', 'Gryllus vocalis SINA', 'Gryllus vulcanus SINA', 'Hapithus agitator SINA', 'Hapithus agitator MCL', 'Hapithus agitator MCL', 'Hapithus agitator MCL', 'Hapithus agitator MCL', 'Hapithus melodius SINA', 'Hapithus melodius MCL', 'Hapithus melodius MCL', 'Hapithus melodius MCL', 'Hapithus melodius MCL', 'Hapithus melodius MCL', 'Hoplosphyrum boreale SINA', 'Hoplosphyrum boreale MCL', 'Hoplosphyrum boreale MCL', 'Hoplosphyrum boreale MCL', 'Hygronemobius alleni SINA', 'Hygronemobius alleni MCL', 'Hygronemobius alleni MCL', 'Hygronemobius alleni MCL', 'Hygronemobius alleni MCL', 'Miogryllus saussurei SINA', 'Miogryllus saussurei MCL', 'Miogryllus saussurei MCL', 'Miogryllus saussurei MCL', 'Neocurtilla hexadactyla SINA', 'Neocurtilla hexadactyla MCL', 'Neocurtilla hexadactyla MCL', 'Neocurtilla hexadactyla MCL', 'Neocurtilla hexadactyla MCL', 'Neocurtilla hexadactyla MCL', 'Neonemobius cubensis SINA', 'Neonemobius cubensis MCL', 'Neonemobius cubensis MCL', 'Neonemobius cubensis MCL', 'Neonemobius cubensis MCL', 'Neonemobius eurynotus SINA', 'Neonemobius mormonius SINA', 'Neonemobius mormonius MCL', 'Neonemobius mormonius MCL', 'Neonemobius mormonius MCL', 'Neonemobius palustris SINA', 'Neonemobius palustris MCL', 'Neonemobius palustris MCL', 'Neonemobius palustris MCL', 'Neonemobius palustris MCL', 'Neonemobius variegatus SINA', 'Neoscapteriscus borellii SINA', 'Neoscapteriscus vicinus SINA', 'Neoxabea bipunctata SINA', 'Neoxabea bipunctata MCL', 'Neoxabea bipunctata MCL', 'Neoxabea bipunctata MCL', 'Neoxabea bipunctata MCL', 'Oecanthus alexanderi SINA', 'Oecanthus argentinus SINA', 'Oecanthus argentinus MCL', 'Oecanthus argentinus MCL', 'Oecanthus argentinus MCL', 'Oecanthus argentinus MCL', 'Oecanthus californicus SINA', 'Oecanthus californicus MCL', 'Oecanthus californicus MCL', 'Oecanthus californicus MCL', 'Oecanthus californicus MCL', 'Oecanthus celerinictus SINA', 'Oecanthus celerinictus MCL', 'Oecanthus celerinictus MCL', 'Oecanthus celerinictus MCL', 'Oecanthus celerinictus MCL', 'Oecanthus exclamationis SINA', 'Oecanthus exclamationis MCL', 'Oecanthus exclamationis MCL', 'Oecanthus exclamationis MCL', 'Oecanthus forbesi SINA', 'Oecanthus forbesi MCL', 'Oecanthus forbesi MCL', 'Oecanthus forbesi MCL', 'Oecanthus fultoni SINA', 'Oecanthus fultoni MCL', 'Oecanthus fultoni MCL', 'Oecanthus laricis SINA', 'Oecanthus latipennis SINA', 'Oecanthus latipennis MCL', 'Oecanthus latipennis MCL', 'Oecanthus latipennis MCL', 'Oecanthus latipennis MCL', 'Oecanthus leptogrammus SINA', 'Oecanthus nigricornis SINA', 'Oecanthus nigricornis MCL', 'Oecanthus nigricornis MCL', 'Oecanthus nigricornis MCL', 'Oecanthus niveus SINA', 'Oecanthus niveus MCL', 'Oecanthus niveus MCL', 'Oecanthus niveus MCL', 'Oecanthus pini SINA', 'Oecanthus pini MCL', 'Oecanthus pini MCL', 'Oecanthus pini MCL', 'Oecanthus quadripunctatus SINA', 'Oecanthus quadripunctatus MCL', 'Oecanthus quadripunctatus MCL', 'Oecanthus quadripunctatus MCL', 'Oecanthus quadripunctatus MCL', 'Oecanthus rileyi SINA', 'Oecanthus rileyi MCL', 'Oecanthus rileyi MCL', 'Oecanthus rileyi MCL', 'Oecanthus salvii SINA', 'Oecanthus texensis SINA', 'Oecanthus varicornis SINA', 'Oecanthus varicornis MCL', 'Oecanthus varicornis MCL', 'Oecanthus varicornis MCL', 'Oecanthus walkeri SINA', 'Orocharis diplastes SINA', 'Orocharis diplastes MCL', 'Orocharis diplastes MCL', 'Orocharis diplastes MCL', 'Orocharis luteolira SINA', 'Orocharis luteolira MCL', 'Orocharis luteolira MCL', 'Orocharis luteolira MCL', 'Orocharis nigrifrons SINA', 'Orocharis nigrifrons MCL', 'Orocharis nigrifrons MCL', 'Orocharis nigrifrons MCL', 'Orocharis nigrifrons MCL', 'Orocharis saltator SINA', 'Orocharis saltator MCL', 'Orocharis saltator MCL', 'Orocharis saltator MCL', 'Orocharis tricornis SINA', 'Orocharis tricornis MCL', 'Orocharis tricornis MCL', 'Orocharis tricornis MCL', 'Phyllopalpus pulchellus SINA', 'Phyllopalpus pulchellus MCL', 'Phyllopalpus pulchellus MCL', 'Phyllopalpus pulchellus MCL', 'Phyllopalpus pulchellus MCL', 'Pictonemobius ambitiosus SINA', 'Pictonemobius ambitiosus MCL', 'Pictonemobius ambitiosus MCL', 'Pictonemobius ambitiosus MCL', 'Pictonemobius arenicola SINA', 'Pictonemobius hubbelli SINA', 'Pictonemobius hubbelli MCL', 'Pictonemobius hubbelli MCL', 'Pictonemobius hubbelli MCL', 'Pictonemobius hubbelli MCL', 'Pictonemobius uliginosus SINA', 'Pictonemobius uliginosus MCL', 'Pictonemobius uliginosus MCL', 'Velarifictorus micado SINA', 'Velarifictorus micado MCL', 'Velarifictorus micado MCL', 'Velarifictorus micado MCL', 'Velarifictorus micado MCL', 'Xenogryllus unipartitus MCL', 'Xenogryllus unipartitus MCL', 'Xenogryllus unipartitus MCL', 'Xenogryllus unipartitus SINA']\n"
          ]
        }
      ],
      "source": [
        "print(cricket_names)"
      ]
    },
    {
      "cell_type": "code",
      "execution_count": null,
      "metadata": {
        "id": "3zPl68uSwZ4S"
      },
      "outputs": [],
      "source": [
        "##high pass filter to zero out low entries below a \"cutoff\"\n",
        "from scipy import signal\n",
        "def butter_highpass(cutoff, fs, order=5):\n",
        "    nyq = 0.5 * fs\n",
        "    normal_cutoff = cutoff / nyq\n",
        "    b, a = signal.butter(order, normal_cutoff, btype='high', analog=False)\n",
        "    return b, a\n",
        "\n",
        "def butter_highpass_filter(data, cutoff, fs, order=5):\n",
        "    b, a = butter_highpass(cutoff, fs, order=order)\n",
        "    y = signal.filtfilt(b, a, data)\n",
        "    return y"
      ]
    },
    {
      "cell_type": "markdown",
      "source": [
        "# Creating Mel Spectrograms"
      ],
      "metadata": {
        "id": "2gRVh32QE7Ro"
      }
    },
    {
      "cell_type": "code",
      "execution_count": null,
      "metadata": {
        "id": "02p5WIYSwiZE"
      },
      "outputs": [],
      "source": [
        "##generate mel specs for t-sne: output --> numerical matrix, which is flattened into 1D for our dimensionality reduction algorithms\n",
        "num_iter = 0\n",
        "\n",
        "audio_length = librosa.time_to_frames(5) #take only 5 seconds from melspectrograms\n",
        "num_mel_bands = 128\n",
        "\n",
        "mel_spec_list = []\n",
        "\n",
        "for waveform in waveform_list: ##go through waveforms for each of the audio files and create a mel spectrogram from them\n",
        "\n",
        "  print(\"ITERATION NUMBER: \", str(num_iter+1))\n",
        "\n",
        "  mel_spec = librosa.feature.melspectrogram(butter_highpass_filter(waveform, 2000, sr), sr=sr) #build mel spec for the entire (filtered) waveform (2000 is second arg to drop all frequencies below 2KHz)\n",
        "  log_mel_spec = librosa.power_to_db(mel_spec) ##convert power to log scale to perceptually represent intensity of the sound\n",
        "  num_frames = mel_spec.shape[1] #number of frames for particular file\n",
        "\n",
        "  if cricket_names[num_iter].find(\"SINA\") != -1: #SINA: take first 5 seconds from mel spectrogram (no voiceover at the beginning)\n",
        "\n",
        "      if num_frames >= audio_length:\n",
        "        mel_spec_list.append(log_mel_spec[:,0:audio_length].flatten())\n",
        "\n",
        "      else: #file less than 5 seconds\n",
        "        pass #disregard because we'd have to 0 pad, which could affect how well the data clusters in the t-sne plot\n",
        "        \n",
        "  else: #MCL --> take seconds 5.2-10.2 from mel spectrogram (voiceover of roughly 5 seconds at beginning)\n",
        "      jump_about_5_seconds = librosa.time_to_frames(5.2) ##jump a tad bit over 5 seconds to not get voiceover data\n",
        "      if num_frames >= audio_length+jump_about_5_seconds: \n",
        "        mel_spec_list.append(log_mel_spec[:,jump_about_5_seconds:audio_length+jump_about_5_seconds].flatten())\n",
        "      else: #file less than 10.2 seconds\n",
        "        pass #disregard because we'd have to 0 pad, which could affect how well the data clusters in the t-sne plot\n",
        "      \n",
        "\n",
        "  num_iter += 1\n",
        "\n",
        "mel_spec_list = np.array(mel_spec_list)\n",
        "print(mel_spec_list.shape)"
      ]
    },
    {
      "cell_type": "code",
      "execution_count": null,
      "metadata": {
        "id": "DKKC7h485hcr"
      },
      "outputs": [],
      "source": [
        "#plot mel specs function --> this function is just used to visualize our mel specs in image format -- it's not used for the actual dimensionality reduction\n",
        "def plot_mel_spec(folder, data, title, id):\n",
        "  plt.figure(figsize=(25,10))\n",
        "  librosa.display.specshow(\n",
        "      data,\n",
        "      x_axis= \"time\",\n",
        "      y_axis = \"mel\",\n",
        "      sr=sr,\n",
        "      cmap='magma' #ensures colormaps all use the same coloring scheme\n",
        "  )\n",
        "  plt.xlim([0, 5])\n",
        "  plt.clim(-100, 35) #set lower and upper limit on decibal to color mapping\n",
        "  plt.title(\"Mel spectrogram for \" + title)\n",
        "  plt.xlabel(\"time\")\n",
        "  plt.ylabel(\"mel\")\n",
        "  plt.savefig(folder + title + str(id) + '.png')\n",
        "  plt.close()"
      ]
    },
    {
      "cell_type": "code",
      "execution_count": null,
      "metadata": {
        "id": "N0QwKdLb6P7z"
      },
      "outputs": [],
      "source": [
        "##generate mel specs images for VISUALIZATION PURPOSES ONLY: output --> .png files\n",
        "mel_specs_folder = \"/content/drive/Shareddrives/Analyzing Cricket Songs with Machine Learning/mel specs for SINA and MCL/\"\n",
        "num_iter = 0\n",
        "\n",
        "audio_length = librosa.time_to_frames(5) #take only 5 seconds from melspectrograms\n",
        "num_mel_bands = 128\n",
        "\n",
        "for waveform in waveform_list: ##go through waveforms for each of the audio files and create a mel spectrogram from them\n",
        "\n",
        "  print(\"ITERATION NUMBER: \", str(num_iter+1))\n",
        "\n",
        "  mel_spec = librosa.feature.melspectrogram(butter_highpass_filter(waveform, 2000, sr), sr=sr) #build mel spec for the entire (filtered) waveform (2000 is second arg to drop all frequencies below 2KHz)\n",
        "  log_mel_spec = librosa.power_to_db(mel_spec) ##convert power to log scale to perceptually represent intensity of the sound\n",
        "  num_frames = mel_spec.shape[1] #number of frames for particular file\n",
        "\n",
        "  if cricket_names[num_iter].find(\"SINA\") != -1: #SINA: take first 5 seconds from mel spectrogram (no voiceover at the beginning)\n",
        "\n",
        "      if num_frames >= audio_length:\n",
        "        plot_mel_spec(mel_specs_folder,log_mel_spec[:,0:audio_length], cricket_names[num_iter], num_iter)\n",
        "\n",
        "      else: #file less than 5 seconds\n",
        "        pass #disregard -- this waveform won't be used as part of the dataset for dimensionality reduction so no need to visualize it\n",
        "        \n",
        "  else: #MCL --> take seconds 5.2-10.2 from mel spectrogram (voiceover of roughly 5 seconds at beginning)\n",
        "    \n",
        "      jump_about_5_seconds = librosa.time_to_frames(5.2) ##jump a tad bit over 5 seconds to not get voiceover data\n",
        "      if num_frames >= audio_length+jump_about_5_seconds: \n",
        "        plot_mel_spec(mel_specs_folder,log_mel_spec[:,jump_about_5_seconds:audio_length+jump_about_5_seconds], cricket_names[num_iter], num_iter)\n",
        "      else: #file less than 10.2 seconds\n",
        "        pass #disregard -- this waveform won't be used as part of the dataset for dimensionality reduction so no need to visualize it\n",
        "      \n",
        "\n",
        "  num_iter += 1"
      ]
    },
    {
      "cell_type": "code",
      "source": [
        "mel_spec_list.shape"
      ],
      "metadata": {
        "colab": {
          "base_uri": "https://localhost:8080/"
        },
        "id": "BVSuhd-q1vlL",
        "outputId": "ce0246e0-4cee-4b47-d127-891603c8c4d4"
      },
      "execution_count": null,
      "outputs": [
        {
          "output_type": "execute_result",
          "data": {
            "text/plain": [
              "(433, 27520)"
            ]
          },
          "metadata": {},
          "execution_count": 9
        }
      ]
    },
    {
      "cell_type": "markdown",
      "source": [
        "# Creating MFCCs"
      ],
      "metadata": {
        "id": "Z3eP0-ZXHaTh"
      }
    },
    {
      "cell_type": "code",
      "execution_count": null,
      "metadata": {
        "id": "0M3fihrIyP0t"
      },
      "outputs": [],
      "source": [
        "##generate mfccs for t-sne: output --> numerical matrix, which is flattened into 1D for our dimensionality reduction algorithms\n",
        "mfccs_list = np.array([])\n",
        "is_first_iteration = True #used to build the mfcc dataset\n",
        "num_iter = 0\n",
        "is_long_enough_file = False\n",
        "\n",
        "for waveform in waveform_list: ##go through waveforms for each of the audio files and generate MFCCs for them\n",
        "\n",
        "  num_iter += 1\n",
        "  print(\"ITERATION NUMBER: \", str(num_iter))\n",
        "    \n",
        "    \n",
        "  #extract MFCCs\n",
        "  audio_length = librosa.time_to_frames(5) #take only 5 seconds of MFCCs\n",
        "  mfccs = librosa.feature.mfcc(waveform, n_mfcc=13, sr=sr)\n",
        "  num_frames = mfccs.shape[1]\n",
        "\n",
        "  if cricket_names[num_iter-1].find(\"SINA\") != -1: #SINA: take first 5 seconds from MFCCs (no voiceover at the beginning)\n",
        "\n",
        "      if num_frames >= audio_length:\n",
        "        mfccs = mfccs[:,:audio_length]\n",
        "        is_long_enough_file = True\n",
        "\n",
        "      else: \n",
        "        pass #disregard because we'd have to 0 pad, which could affect how well the data clusters in the t-sne plot\n",
        "        \n",
        "  else: #MCL --> take seconds 5.2-10.2 from MFCCs (voiceover of roughly 5 seconds at beginning)\n",
        "    \n",
        "      jump_about_5_seconds = librosa.time_to_frames(5.2) ##jump a tad bit over 5 seconds to not get voiceover data\n",
        "      if num_frames >= audio_length + jump_about_5_seconds: #trim longer files\n",
        "        mfccs = mfccs[:,jump_about_5_seconds:audio_length + jump_about_5_seconds]\n",
        "        is_long_enough_file = True\n",
        "\n",
        "      else:\n",
        "        pass #disregard because we'd have to 0 pad, which could affect how well the data clusters in the t-sne plot\n",
        "      \n",
        "  if is_long_enough_file: ##only compute the delta MFCCs, delta delta MFCCs, and add to the dataset that dimensionality reduction algorithms will be applied to IF the file is long enough\n",
        "    delta_mfccs = librosa.feature.delta(mfccs) ##number of delta MFCCs = 13\n",
        "    delta_delta_mfccs = librosa.feature.delta(mfccs, order=2) ##number of delta delta MFCCs = 13\n",
        "\n",
        "    #concatenate MFCCs, delta MFCCS, and delta delta MFCCs matrices\n",
        "    comprehensive_mfccs = np.concatenate((mfccs, delta_mfccs, delta_delta_mfccs)) ##this turns the matrix from (13,215) to (39,215) (i.e., just tacks on the 13 rows for both the delta MFCCs and delta delta MFCCs on the bottom of the MFCC matrix)\n",
        "                                                                                  ##you can use print out the shape of the matrices to better understand what's going on\n",
        "\n",
        "    #add MFCCs for single cricket file to the mfcc dataset\n",
        "    if is_first_iteration:\n",
        "      mfccs_list = comprehensive_mfccs.flatten() ##this collapses the MFCCs, delta MFCCs, and delta delta MFCCs into 1 row\n",
        "      is_first_iteration = False\n",
        "    else:\n",
        "      mfccs_list = np.vstack((mfccs_list, comprehensive_mfccs.flatten())) ##if the dataset already has one row, just append the next row to the end of the dataset\n",
        "\n",
        "    is_long_enough_file = False\n",
        "        \n",
        "print(mfccs_list)\n",
        "  "
      ]
    },
    {
      "cell_type": "code",
      "execution_count": null,
      "metadata": {
        "colab": {
          "base_uri": "https://localhost:8080/"
        },
        "id": "xD2nQBmhEW1a",
        "outputId": "e47ee303-66ec-4f18-99d1-bf0df6510701"
      },
      "outputs": [
        {
          "output_type": "stream",
          "name": "stdout",
          "text": [
            "(433, 8385)\n"
          ]
        }
      ],
      "source": [
        "print(mfccs_list.shape)"
      ]
    },
    {
      "cell_type": "code",
      "execution_count": null,
      "metadata": {
        "id": "AlIDO2Pv_hik"
      },
      "outputs": [],
      "source": [
        "#plot MFCCs function --> this function is just used to visualize our MFCCs in image format -- it's not used for the actual dimensionality reduction\n",
        "def plot_mfcc(folder, data, title, id):\n",
        "  plt.figure(figsize=(25,10))\n",
        "  librosa.display.specshow(\n",
        "      data,\n",
        "      x_axis= \"time\",\n",
        "      sr=sr,\n",
        "      cmap='magma' #ensures colormaps all use the same coloring scheme\n",
        "  )\n",
        "  plt.xlim([0, 5])\n",
        "  plt.title(\"MFCCs for \" + title)\n",
        "  plt.xlabel(\"time\")\n",
        "  plt.ylabel(\"coefficients\")\n",
        "  plt.savefig(folder + title + str(id) + '.png')\n",
        "  plt.close()"
      ]
    },
    {
      "cell_type": "code",
      "execution_count": null,
      "metadata": {
        "id": "d_L-Qr3Z_4cB"
      },
      "outputs": [],
      "source": [
        "##generate MFCCs images for VISUALIZATION PURPOSES ONLY: output --> .png files\n",
        "mfccs_folder = \"/content/drive/Shareddrives/Analyzing Cricket Songs with Machine Learning/mfccs for SINA and MCL/\"\n",
        "num_iter = 0\n",
        "is_long_enough_file = False\n",
        "\n",
        "for waveform in waveform_list: #go through waveforms for each of the audio files and generate MFCCs for them\n",
        "\n",
        "  num_iter += 1\n",
        "  print(\"ITERATION NUMBER: \", str(num_iter))\n",
        "    \n",
        "    \n",
        "  #extract MFCCs\n",
        "  audio_length = librosa.time_to_frames(5) #take only 5 seconds of MFCCs\n",
        "  mfccs = librosa.feature.mfcc(waveform, n_mfcc=13, sr=sr)\n",
        "  num_frames = mfccs.shape[1]\n",
        "\n",
        "  if cricket_names[num_iter-1].find(\"SINA\") != -1: #SINA: take first 5 seconds from MFCCs (no voiceover at the beginning)\n",
        "\n",
        "      if num_frames >= audio_length:\n",
        "        mfccs = mfccs[:,:audio_length]\n",
        "        is_long_enough_file = True\n",
        "\n",
        "      else: \n",
        "        pass  #disregard -- this waveform won't be used as part of the dataset for dimensionality reduction so no need to visualize it\n",
        "        \n",
        "  else: #MCL --> take seconds 5.2-10.2 from MFCCs (voiceover of roughly 5 seconds at beginning)\n",
        "    \n",
        "      jump_about_5_seconds = librosa.time_to_frames(5.2) ##jump a tad bit over 5 seconds to not get voiceover data\n",
        "      if num_frames >= audio_length + jump_about_5_seconds: #trim longer files\n",
        "        mfccs = mfccs[:,jump_about_5_seconds:audio_length + jump_about_5_seconds]\n",
        "        is_long_enough_file = True\n",
        "\n",
        "      else:\n",
        "        pass  #disregard -- this waveform won't be used as part of the dataset for dimensionality reduction so no need to visualize it\n",
        "      \n",
        "  if is_long_enough_file: ##only compute the delta MFCCs, delta delta MFCCs, and add to the dataset that dimensionality reduction algorithms will be applied to IF the file is long enough\n",
        "    delta_mfccs = librosa.feature.delta(mfccs) ##number of delta MFCCs = 13\n",
        "    delta_delta_mfccs = librosa.feature.delta(mfccs, order=2) ##number of delta delta MFCCs = 13\n",
        "\n",
        "    #concatenate MFCCs, delta MFCCS, and delta delta MFCCs matrices\n",
        "    comprehensive_mfccs = np.concatenate((mfccs, delta_mfccs, delta_delta_mfccs)) ##this turns the matrix from (13,215) to (39,215) (i.e., just tacks on the 13 rows for both the delta MFCCs and delta delta MFCCs on the bottom of the MFCC matrix)\n",
        "                                                                                  ##you can use print out the shape of the matrices to better understand what's going on\n",
        "\n",
        "    plot_mfcc(mfccs_folder, comprehensive_mfccs, cricket_names[num_iter-1], num_iter-1)\n",
        "\n",
        "    is_long_enough_file = False"
      ]
    },
    {
      "cell_type": "markdown",
      "source": [
        "\n",
        "\n",
        "\n",
        "# Creating magnitude power spectrums"
      ],
      "metadata": {
        "id": "0uUb7IPygezt"
      }
    },
    {
      "cell_type": "code",
      "execution_count": null,
      "metadata": {
        "id": "tE-5UFib0Gat"
      },
      "outputs": [],
      "source": [
        "##generate magnitude power spectrums for t-sne\n",
        "audio_length = int(5 * sr) #determines how many time samples are in 5 seconds (sr = # samples/sec so 5 secs * #samples/sec = # samples in 5 secs)\n",
        "                           #the length of the waveform list is the number of time samples and we need to only apply the Fourier Transform to the time samples occurring in the first 5 seconds\n",
        "                           #Fourier transform moves audio from the time domain to the frequency domain (magnitude power spectrums just display the audio signal in the frequency domain)\n",
        "                           #this is different from the mel specs/MFCCs as those deal with audio frames. For magnitude power spectrums, we have to deal with the time samples (frames are comprised of multiple time samples)\n",
        "power_spec_list = []\n",
        "num_iter = 0\n",
        "is_long_enough_file = False\n",
        "\n",
        "for waveform in waveform_list: ##go through waveforms for each of the audio files and generate magnitude power spectrums for them\n",
        "\n",
        "  num_iter += 1\n",
        "  print(\"ITERATION NUMBER: \", str(num_iter))\n",
        "\n",
        "  if cricket_names[num_iter-1].find(\"SINA\") != -1: #SINA: take first 5 seconds from MFCCs (no voiceover at the beginning)\n",
        "     if len(waveform) >= audio_length:\n",
        "       ft = np.fft.fft(butter_highpass_filter(waveform, 2000, sr)[:audio_length]) ##apply highpass filter to time samples within the first 5 seconds and apply the fourier transform to the filtered time samples\n",
        "       is_long_enough_file = True\n",
        "     else:\n",
        "       pass #disregard because we'd have to 0 pad, which could affect how well the data clusters in the t-sne plot\n",
        "\n",
        "  else: #MCL --> take seconds 5.2-10.2 from MFCCs (voiceover of roughly 5 seconds at beginning)\n",
        "     jump_about_5_seconds = int(5.2 * sr) ##jump a tad bit over 5 seconds to not get voiceover data\n",
        "     if len(waveform) >= audio_length + jump_about_5_seconds:\n",
        "       ft = np.fft.fft(butter_highpass_filter(waveform, 2000, sr)[jump_about_5_seconds:audio_length + jump_about_5_seconds]) ##apply highpass filter to time samples within seconds 5.2-10.2 of the audio file and apply the fourier transform to the filtered time samples\n",
        "       is_long_enough_file = True\n",
        "     else:\n",
        "       pass #disregard because we'd have to 0 pad, which could affect how well the data clusters in the t-sne plot\n",
        "\n",
        "  if is_long_enough_file:\n",
        "    power_spec = np.abs(ft) #Fourier transform returns a complex/imaginary number but we can take the absolute value to obtain the magnitude/the frequency's \"relevance\" in the sound\n",
        "    frequency = np.linspace(0, sr, len(power_spec)) #the number of frequency bins is equal to the number of time samples in the waveform data\n",
        "    num_frequency_bins = int(len(frequency) * 0.5) #only take the first half of the frequency bins (i.e. cut off at the nyquist frequency) --> the second half of the frequency bins are exact mirror images of the first half\n",
        "    power_spec_list.append(np.array(power_spec[:num_frequency_bins]))\n",
        "    is_long_enough_file = False\n",
        "                         \n",
        "power_spec_list = np.array(power_spec_list)"
      ]
    },
    {
      "cell_type": "code",
      "execution_count": null,
      "metadata": {
        "colab": {
          "base_uri": "https://localhost:8080/"
        },
        "id": "qwa2gs-0HsbL",
        "outputId": "6bf4670d-bd0e-4197-d636-db86e3d8a597"
      },
      "outputs": [
        {
          "output_type": "execute_result",
          "data": {
            "text/plain": [
              "(433, 55125)"
            ]
          },
          "metadata": {},
          "execution_count": 15
        }
      ],
      "source": [
        "power_spec_list.shape"
      ]
    },
    {
      "cell_type": "code",
      "execution_count": null,
      "metadata": {
        "id": "gYL6mHvB24rI"
      },
      "outputs": [],
      "source": [
        "#plot magnitude power spectrum function --> this function is just used to visualize our magnitude power spectrums in image format -- it's not used for the actual dimensionality reduction\n",
        "def plot_power_spec(folder_name, title, id, signal, sr, f_ratio=0.5):\n",
        "  ft = np.fft.fft(signal)\n",
        "  power_spec = np.abs(ft)\n",
        "  plt.figure(figsize=(25,10))\n",
        "  frequency = np.linspace(0, sr, len(power_spec))\n",
        "  num_frequency_bins = int(len(frequency) * f_ratio)\n",
        "  plt.title(\"Magnitude Power Spectrum for \" + title)\n",
        "  plt.xlabel(\"frequency\")\n",
        "  plt.ylabel(\"magnitude\")\n",
        "  plt.plot(frequency[:num_frequency_bins], power_spec[:num_frequency_bins])\n",
        "  plt.savefig(folder_name + title + str(id) + '.png', bbox_inches='tight')\n",
        "  plt.close()"
      ]
    },
    {
      "cell_type": "code",
      "execution_count": null,
      "metadata": {
        "id": "U3HcGNit3jwt"
      },
      "outputs": [],
      "source": [
        "##generate magnitude power spectrums plots for VISUALIZATION PURPOSES ONLY: output --> .png files\n",
        "mps_plots_folder = \"/content/drive/Shareddrives/Analyzing Cricket Songs with Machine Learning/mps for SINA and MCL/\"\n",
        "audio_length = int(5 * sr) #determines how many time samples are in 5 seconds (sr = # samples/sec so 5 secs * #samples/sec = # samples in 5 secs)\n",
        "                           #the length of the waveform list is the number of time samples and we need to only apply the Fourier Transform to the time samples occurring in the first 5 seconds\n",
        "                           #Fourier transform moves audio from the time domain to the frequency domain (magnitude power spectrums just display the audio signal in the frequency domain)\n",
        "                           #this is different from the mel specs/MFCCs as those deal with audio frames. For magnitude power spectrums, we have to deal with the time samples (frames are comprised of multiple time samples)\n",
        "num_iter = 0\n",
        "\n",
        "for waveform in waveform_list: ##go through waveforms for each of the audio files and generate magnitude power spectrums for them\n",
        "\n",
        "  num_iter += 1\n",
        "  print(\"ITERATION NUMBER: \", str(num_iter))\n",
        "\n",
        "  if cricket_names[num_iter-1].find(\"SINA\") != -1: #SINA: take first 5 seconds from MFCCs (no voiceover at the beginning)\n",
        "     if len(waveform) >= audio_length:\n",
        "       plot_power_spec(mps_plots_folder, cricket_names[num_iter-1], num_iter-1, butter_highpass_filter(waveform, 2000, sr)[:audio_length], sr) ##apply highpass filter to time samples within the first 5 seconds and apply the fourier transform to the filtered time samples\n",
        "     else:\n",
        "       pass #disregard -- this waveform won't be used as part of the dataset for dimensionality reduction so no need to visualize it\n",
        "\n",
        "  else: #MCL --> take seconds 5.2-10.2 from MFCCs (voiceover of roughly 5 seconds at beginning)\n",
        "     jump_about_5_seconds = int(5.2 * sr) ##jump a tad bit over 5 seconds to not get voiceover data\n",
        "     if len(waveform) >= audio_length + jump_about_5_seconds:\n",
        "       plot_power_spec(mps_plots_folder, cricket_names[num_iter-1], num_iter-1, butter_highpass_filter(waveform, 2000, sr)[jump_about_5_seconds:audio_length + jump_about_5_seconds], sr) ##apply highpass filter to time samples within seconds 5.2-10.2 of the audio file and apply the fourier transform to the filtered time samples\n",
        "     else:\n",
        "       pass #disregard -- this waveform won't be used as part of the dataset for dimensionality reduction so no need to visualize it"
      ]
    },
    {
      "cell_type": "markdown",
      "source": [
        "# Applying PCA to Datasets for Mel Spectrograms, MFCCs, and Magnitude Power Spectrums"
      ],
      "metadata": {
        "id": "mbeythqRG363"
      }
    },
    {
      "cell_type": "code",
      "execution_count": null,
      "metadata": {
        "id": "fHBY448B1081",
        "colab": {
          "base_uri": "https://localhost:8080/"
        },
        "outputId": "81491158-4205-4782-b7d3-74453fb7a856"
      },
      "outputs": [
        {
          "output_type": "stream",
          "name": "stdout",
          "text": [
            "TOTAL EXPLAINED VARIANCE WITH 50 components = 0.8996667571634519\n"
          ]
        }
      ],
      "source": [
        "##pca for mel specs\n",
        "num_components = 50 ##reduce to 50 dimensions because t-sne only works well with <= 50 dimensions\n",
        "pca = PCA(n_components = num_components)\n",
        "mel_spec_pca = pca.fit_transform(mel_spec_list)\n",
        "print(\"TOTAL EXPLAINED VARIANCE WITH \" + str(num_components) \n",
        "+ \" components = \" +  str(sum(pca.explained_variance_ratio_)))"
      ]
    },
    {
      "cell_type": "code",
      "execution_count": null,
      "metadata": {
        "id": "bhnywLL12HCc",
        "colab": {
          "base_uri": "https://localhost:8080/"
        },
        "outputId": "c2099948-d8ff-4b1b-ecc3-072f7f1c4632"
      },
      "outputs": [
        {
          "output_type": "stream",
          "name": "stdout",
          "text": [
            "TOTAL EXPLAINED VARIANCE WITH 50 components = 0.9486747398041189\n"
          ]
        }
      ],
      "source": [
        "##pca for mfccs\n",
        "num_components = 50 ##reduce to 50 dimensions because t-sne only works well with <= 50 dimensions\n",
        "pca = PCA(n_components = num_components)\n",
        "mfccs_pca = pca.fit_transform(mfccs_list)\n",
        "print(\"TOTAL EXPLAINED VARIANCE WITH \" + str(num_components) \n",
        "+ \" components = \" +  str(sum(pca.explained_variance_ratio_)))"
      ]
    },
    {
      "cell_type": "code",
      "execution_count": null,
      "metadata": {
        "id": "9Vrg3mNd2MZ0",
        "colab": {
          "base_uri": "https://localhost:8080/"
        },
        "outputId": "a70fe941-275d-4d1c-f005-390bcd63b91c"
      },
      "outputs": [
        {
          "output_type": "stream",
          "name": "stdout",
          "text": [
            "TOTAL EXPLAINED VARIANCE WITH 50 components = 0.8100266327674646\n"
          ]
        }
      ],
      "source": [
        "##pca for magnitude power spectrum\n",
        "num_components = 50 ##reduce to 50 dimensions because t-sne only works well with <= 50 dimensions\n",
        "pca = PCA(n_components = num_components)\n",
        "mag_power_spec_pca = pca.fit_transform(power_spec_list)\n",
        "print(\"TOTAL EXPLAINED VARIANCE WITH \" + str(num_components) \n",
        "+ \" components = \" +  str(sum(pca.explained_variance_ratio_)))"
      ]
    },
    {
      "cell_type": "markdown",
      "source": [
        "# Apply T-SNE to PCA-Reduced Datasets for the 3 Audio Features"
      ],
      "metadata": {
        "id": "gsVahvzTRCSL"
      }
    },
    {
      "cell_type": "code",
      "source": [
        "##apply t-sne to PCA-reduced mel spectrogram dataset\n",
        "mel_spec_tsne_out = TSNE(\n",
        "    n_components=2, perplexity=17.0, learning_rate=300.0, ##feel free to tune hyperparameters\n",
        "    n_iter=15000, n_iter_without_progress=15000).fit_transform(mel_spec_pca)"
      ],
      "metadata": {
        "colab": {
          "base_uri": "https://localhost:8080/"
        },
        "id": "voUEcZGLRwpZ",
        "outputId": "d9c1d3ea-f7f7-485b-eddc-3c451395725f"
      },
      "execution_count": null,
      "outputs": [
        {
          "output_type": "stream",
          "name": "stderr",
          "text": [
            "/usr/local/lib/python3.7/dist-packages/sklearn/manifold/_t_sne.py:783: FutureWarning: The default initialization in TSNE will change from 'random' to 'pca' in 1.2.\n",
            "  FutureWarning,\n"
          ]
        }
      ]
    },
    {
      "cell_type": "code",
      "source": [
        "##apply t-sne to PCA-reduced MFCCs dataset\n",
        "mfccs_tsne_out = TSNE(\n",
        "    n_components=2, perplexity=17.0, learning_rate=300.0, ##feel free to tune hyperparameters\n",
        "    n_iter=15000, n_iter_without_progress=15000).fit_transform(mfccs_pca)"
      ],
      "metadata": {
        "colab": {
          "base_uri": "https://localhost:8080/"
        },
        "id": "9RROaLOjROCP",
        "outputId": "d9860fcd-8a4b-4e4d-f708-24426b3c39be"
      },
      "execution_count": null,
      "outputs": [
        {
          "output_type": "stream",
          "name": "stderr",
          "text": [
            "/usr/local/lib/python3.7/dist-packages/sklearn/manifold/_t_sne.py:783: FutureWarning: The default initialization in TSNE will change from 'random' to 'pca' in 1.2.\n",
            "  FutureWarning,\n"
          ]
        }
      ]
    },
    {
      "cell_type": "code",
      "source": [
        "##apply t-sne to PCA-reduced magnitude power spectrums dataset\n",
        "mag_power_spec_tnse_out = TSNE(\n",
        "    n_components=2, perplexity=17.0, learning_rate=300.0, ##feel free to tune hyperparameters\n",
        "    n_iter=15000, n_iter_without_progress=15000).fit_transform(mag_power_spec_pca)"
      ],
      "metadata": {
        "colab": {
          "base_uri": "https://localhost:8080/"
        },
        "id": "caedB1ZLSCYN",
        "outputId": "6eb0155b-32af-4ee3-954b-2cb7c5ba5959"
      },
      "execution_count": null,
      "outputs": [
        {
          "output_type": "stream",
          "name": "stderr",
          "text": [
            "/usr/local/lib/python3.7/dist-packages/sklearn/manifold/_t_sne.py:783: FutureWarning: The default initialization in TSNE will change from 'random' to 'pca' in 1.2.\n",
            "  FutureWarning,\n"
          ]
        }
      ]
    },
    {
      "cell_type": "markdown",
      "source": [
        "# Filter Out Datapoints Belonging to a Genus or Species with < 30 Files and < 6 Files, Respectively "
      ],
      "metadata": {
        "id": "68cvqpM3Pny3"
      }
    },
    {
      "cell_type": "code",
      "source": [
        "##first, get information on how many files per genus and species\n",
        "species_dict = {} \n",
        "genus_dict = {}\n",
        "\n",
        "for name in cricket_names:\n",
        "    #name = \"Genus species MCL\" or \"Genus species SINA\"\n",
        "    genus_name = name.split(\" \")[0]\n",
        "    species_name = name.split(\" \")[0] + \" \" + name.split(\" \")[1]\n",
        "\n",
        "    if species_name in species_dict: #have already seen species, increment counter by 1\n",
        "        species_dict[species_name] += 1\n",
        "    else: #haven't seen this species yet\n",
        "        species_dict[species_name] = 1\n",
        "        \n",
        "    if genus_name in genus_dict: #have already seen genus, increment counter by 1\n",
        "        genus_dict[genus_name] += 1\n",
        "    else: #haven't seen this genus yet\n",
        "        genus_dict[genus_name] = 1"
      ],
      "metadata": {
        "id": "OfCVoZy0vbWO"
      },
      "execution_count": null,
      "outputs": []
    },
    {
      "cell_type": "code",
      "source": [
        "#only load data in t-sne plot for genuses that have >= min_files for them\n",
        "def filter_dataset_genus(x, y, min_count): #x = component 1 output from t-sne alg, y = component 2 output from t-sne alg\n",
        "    filtered_x = np.array([])\n",
        "    filtered_y = np.array([])\n",
        "    for i in range(len(x)):\n",
        "      genus_name = cricket_names[i].split(\" \")[0]\n",
        "      if genus_dict[genus_name] >= min_count:\n",
        "          filtered_x = np.append(filtered_x, x[i])\n",
        "          filtered_y = np.append(filtered_y, y[i])\n",
        "    return (filtered_x, filtered_y)"
      ],
      "metadata": {
        "id": "DCPZ4_PbUoxf"
      },
      "execution_count": null,
      "outputs": []
    },
    {
      "cell_type": "code",
      "source": [
        "#only load data in t-sne plot for species that have >= min_files for them\n",
        "def filter_dataset_species(x, y, min_count): #x = component 1 output from t-sne alg, y = component 2 output from t-sne alg\n",
        "    filtered_x = np.array([])\n",
        "    filtered_y = np.array([])\n",
        "    for i in range(len(x)):\n",
        "      species_name = cricket_names[i].split(\" \")[0] + \" \" + cricket_names[i].split(\" \")[1]\n",
        "      if species_dict[species_name] >= min_count:\n",
        "          filtered_x = np.append(filtered_x, x[i])\n",
        "          filtered_y = np.append(filtered_y, y[i])\n",
        "    return (filtered_x, filtered_y)"
      ],
      "metadata": {
        "id": "ws1cFgaDXEh1"
      },
      "execution_count": null,
      "outputs": []
    },
    {
      "cell_type": "code",
      "source": [
        "#MEL SPECTROGRAM DATASET\n",
        "\n",
        "##filtered mel spectrogram datapoints by GENUS\n",
        "x_vals = mel_spec_tsne_out[:,0]\n",
        "y_vals = mel_spec_tsne_out[:,1]\n",
        "x_vals_mel_spec_genus, y_vals_mel_spec_genus = filter_dataset_genus(x_vals, y_vals, 30)\n",
        "\n",
        "##filtered mel spectrogram datapoints by SPECIES\n",
        "x_vals = mel_spec_tsne_out[:,0]\n",
        "y_vals = mel_spec_tsne_out[:,1]\n",
        "x_vals_mel_spec_species, y_vals_mel_spec_species = filter_dataset_species(x_vals, y_vals, 6)"
      ],
      "metadata": {
        "id": "AqautmLocCVl"
      },
      "execution_count": null,
      "outputs": []
    },
    {
      "cell_type": "code",
      "source": [
        "#MFCCS DATASET\n",
        "\n",
        "##filtered mfccs datapoints by GENUS\n",
        "x_vals = mfccs_tsne_out[:,0]\n",
        "y_vals = mfccs_tsne_out[:,1]\n",
        "x_vals_mfccs_genus, y_vals_mfccs_genus = filter_dataset_genus(x_vals, y_vals, 30)\n",
        "\n",
        "##filtered mfccs datapoints by SPECIES\n",
        "x_vals = mfccs_tsne_out[:,0]\n",
        "y_vals = mfccs_tsne_out[:,1]\n",
        "x_vals_mfccs_species, y_vals_mfccs_species = filter_dataset_species(x_vals, y_vals, 6)"
      ],
      "metadata": {
        "id": "Iom2SLNgTmdt"
      },
      "execution_count": null,
      "outputs": []
    },
    {
      "cell_type": "code",
      "source": [
        "#MAGNITUDE POWER SPECTRUM DATASET\n",
        "\n",
        "##filtered magnitude power spectrum datapoints by GENUS\n",
        "x_vals = mag_power_spec_tnse_out[:,0]\n",
        "y_vals = mag_power_spec_tnse_out[:,1]\n",
        "x_vals_mps_genus, y_vals_mps_genus = filter_dataset_genus(x_vals, y_vals, 30)\n",
        "\n",
        "##filtered magnitude power spectrum datapoints by SPECIES\n",
        "x_vals = mag_power_spec_tnse_out[:,0]\n",
        "y_vals = mag_power_spec_tnse_out[:,1]\n",
        "x_vals_mps_species, y_vals_mps_species = filter_dataset_species(x_vals, y_vals, 6)"
      ],
      "metadata": {
        "id": "DLA205ueTmwp"
      },
      "execution_count": null,
      "outputs": []
    },
    {
      "cell_type": "markdown",
      "source": [
        "# Creating Genus and Species Color Mappings for the t-SNE Plots"
      ],
      "metadata": {
        "id": "IzWwCOC7JYtq"
      }
    },
    {
      "cell_type": "code",
      "source": [
        "#obtain genus mappings for each data point in the dataset\n",
        "genus_mapping = [] ##will contain what genus id/\"map value\" each filtered data point belongs to (filtered --> datapoints for genera that have less than 30 files aren't considered since not a large enough sample size)\n",
        "                   ##this is necessary because we must color code each datapoint according to its genus\n",
        "                   \n",
        "min_file_count = 30 #datapoints for genera that have less than 30 files aren't considered/plotted since not a large enough sample size\n",
        "map_value = -1\n",
        "prev_name = \"\"\n",
        "filtered_genus_names = [] #will contain the genus names that have >= 30 files so that we know what genus each genus id/\"map value\" belongs to\n",
        "\n",
        "for name in cricket_names:\n",
        "  genus_name = name.split(\" \")[0] #name = \"Genus species MCL\" or \"Genus species SINA\"\n",
        "  if genus_dict[genus_name] >= min_file_count and genus_name == prev_name: #this is true when the current datapoint belongs to a genus with >= 30 files that was seen in the previous iteration (just reuse the same id/\"map value\")\n",
        "    genus_mapping.append(map_value)\n",
        "  elif genus_dict[genus_name] >= min_file_count: #this is true when the current datapoint belongs to a genus with >= 30 files but the genus name hasn't been seen before (increment the id/\"map value\")\n",
        "    map_value += 1\n",
        "    filtered_genus_names.append(genus_name)\n",
        "    genus_mapping.append(map_value) \n",
        "  prev_name = genus_name"
      ],
      "metadata": {
        "id": "acjgZVA5PXoh"
      },
      "execution_count": null,
      "outputs": []
    },
    {
      "cell_type": "code",
      "source": [
        "filtered_genus_names"
      ],
      "metadata": {
        "colab": {
          "base_uri": "https://localhost:8080/"
        },
        "id": "_iR-0rIpYNKV",
        "outputId": "681257cf-538b-444f-a4a4-96a5caf21499"
      },
      "execution_count": null,
      "outputs": [
        {
          "output_type": "execute_result",
          "data": {
            "text/plain": [
              "['Allonemobius', 'Anaxipha', 'Cycloptilum', 'Gryllus', 'Oecanthus']"
            ]
          },
          "metadata": {},
          "execution_count": 44
        }
      ]
    },
    {
      "cell_type": "code",
      "source": [
        "len(genus_mapping) ##this is the number of datapoints which belong to genera with >= 30 files"
      ],
      "metadata": {
        "colab": {
          "base_uri": "https://localhost:8080/"
        },
        "id": "Ljmh_raATK1t",
        "outputId": "3296b91e-d5cd-4261-b458-006dc37766f8"
      },
      "execution_count": null,
      "outputs": [
        {
          "output_type": "execute_result",
          "data": {
            "text/plain": [
              "281"
            ]
          },
          "metadata": {},
          "execution_count": 45
        }
      ]
    },
    {
      "cell_type": "code",
      "source": [
        "num_genuses_with_enough_files = genus_mapping[-1] + 1 #since the highest genus id/\"map value\" is 1 less than the total number of genera we found to have >= 30 files"
      ],
      "metadata": {
        "id": "ONP3JPWWVfI-"
      },
      "execution_count": null,
      "outputs": []
    },
    {
      "cell_type": "code",
      "source": [
        "# creating genus color map\n",
        "cmap = plt.cm.jet\n",
        "# extract all colors from the .jet map\n",
        "cmaplist = [cmap(i) for i in range(cmap.N)]\n",
        "# create the new map\n",
        "genus_cmap = cmap.from_list('Custom cmap', cmaplist, cmap.N)\n",
        "# define the bins and normalize\n",
        "genus_bounds = np.linspace(0, num_genuses_with_enough_files, num_genuses_with_enough_files+1)\n",
        "genus_norm = mpl.colors.BoundaryNorm(genus_bounds, genus_cmap.N)"
      ],
      "metadata": {
        "id": "8VkmCdg0Yf46"
      },
      "execution_count": null,
      "outputs": []
    },
    {
      "cell_type": "code",
      "source": [
        "#obtain species mappings for each data entry\n",
        "species_mapping = [] ##will contain what species id/\"map value\" each filtered data point belongs to (filtered --> datapoints for species that have less than 6 files aren't considered since not a large enough sample size)\n",
        "                     ##this is necessary because we must color code each datapoint according to its genus\n",
        "min_file_count = 6 #datapoints for genera that have less than 6 files aren't considered/plotted since not a large enough sample size\n",
        "map_value = -1\n",
        "prev_name = \"\"\n",
        "filtered_species_names= [] #will contain the species names that have >= 6 files so that we know what species each species id/\"map value\" belongs to\n",
        "\n",
        "for name in cricket_names: \n",
        "  species_name = name.split(\" \")[0] + \" \" + name.split(\" \")[1] #name = \"Genus species MCL\" or \"Genus species SINA\"\n",
        "  if species_dict[species_name] >= min_file_count and species_name == prev_name: #this is true when the current datapoint belongs to a species with >= 6 files that was seen in the previous iteration (just reuse the same id/\"map value\")\n",
        "    species_mapping.append(map_value)\n",
        "  elif species_dict[species_name] >= min_file_count: #this is true when the current datapoint belongs to a species with >= 6 files but the genus name hasn't been seen before (increment the id/\"map value\")\n",
        "    map_value += 1\n",
        "    filtered_species_names.append(species_name)\n",
        "    species_mapping.append(map_value) \n",
        "  prev_name = species_name"
      ],
      "metadata": {
        "id": "aZlbidt6TMrF"
      },
      "execution_count": null,
      "outputs": []
    },
    {
      "cell_type": "code",
      "source": [
        "filtered_species_names"
      ],
      "metadata": {
        "colab": {
          "base_uri": "https://localhost:8080/"
        },
        "id": "6M5gnYZEUdBx",
        "outputId": "27b88a93-9ef9-4960-b599-bc76041b2a45"
      },
      "execution_count": null,
      "outputs": [
        {
          "output_type": "execute_result",
          "data": {
            "text/plain": [
              "['Gryllotalpa major',\n",
              " 'Gryllus integer',\n",
              " 'Gryllus ovisopis',\n",
              " 'Gryllus pennsylvanicus',\n",
              " 'Gryllus rubens',\n",
              " 'Hapithus melodius',\n",
              " 'Neocurtilla hexadactyla']"
            ]
          },
          "metadata": {},
          "execution_count": 49
        }
      ]
    },
    {
      "cell_type": "code",
      "source": [
        "num_species_with_enough_files = species_mapping[-1] + 1 #since the highest species id/\"map value\" is 1 less than the total number of species we found to have >= 6 files"
      ],
      "metadata": {
        "id": "gTech4D9V2V_"
      },
      "execution_count": null,
      "outputs": []
    },
    {
      "cell_type": "code",
      "source": [
        "# creating species color map\n",
        "cmap = plt.cm.jet\n",
        "# extract all colors from the .jet map\n",
        "cmaplist = [cmap(i) for i in range(cmap.N)]\n",
        "# create the new map\n",
        "species_cmap = cmap.from_list('Custom cmap', cmaplist, cmap.N)\n",
        "# define the bins and normalize\n",
        "species_bounds = np.linspace(0, num_species_with_enough_files, num_species_with_enough_files+1)\n",
        "species_norm = mpl.colors.BoundaryNorm(species_bounds, species_cmap.N)"
      ],
      "metadata": {
        "id": "2nPY57AOZ4q7"
      },
      "execution_count": null,
      "outputs": []
    },
    {
      "cell_type": "markdown",
      "source": [
        "# Make t-SNE Plots"
      ],
      "metadata": {
        "id": "Oh5Z3ELRVD8q"
      }
    },
    {
      "cell_type": "code",
      "source": [
        "tsne_folder = mfccs_folder = \"/content/drive/Shareddrives/Analyzing Cricket Songs with Machine Learning/t-sne plots/\""
      ],
      "metadata": {
        "id": "e6Lw9XbpXGGT"
      },
      "execution_count": null,
      "outputs": []
    },
    {
      "cell_type": "code",
      "source": [
        "##MEL SPECTROGRAM BY GENUS\n",
        "\n",
        "# make the scatter plot\n",
        "fig, ax = plt.subplots(1,1, figsize=(20,20))\n",
        "scat = ax.scatter(x_vals_mel_spec_genus, y_vals_mel_spec_genus, c=genus_mapping, cmap=genus_cmap, norm=genus_norm)\n",
        "ax.set_title(\"t-SNE Map of Mel Spectrograms for Cricket Songs Labeled By Genus\")\n",
        "ax.set_xlabel(\"Dimension 1\")\n",
        "ax.set_ylabel(\"Dimension 2\")\n",
        "\n",
        "# create the colorbar and label it\n",
        "cb = plt.colorbar(scat, spacing='proportional',ticks=genus_bounds)\n",
        "cb.ax.set_yticklabels(filtered_genus_names)\n",
        "\n",
        "# save to correct folder in shared drive\n",
        "plt.savefig(tsne_folder + \"mel_spec_genus\" + '.png')"
      ],
      "metadata": {
        "id": "jhTqPEBQiX1V"
      },
      "execution_count": null,
      "outputs": []
    },
    {
      "cell_type": "code",
      "source": [
        "##MEL SPECTROGRAM BY SPECIES\n",
        "\n",
        "# make the scatter plot\n",
        "fig, ax = plt.subplots(1,1, figsize=(20,20))\n",
        "scat = ax.scatter(x_vals_mel_spec_species, y_vals_mel_spec_species, c=species_mapping, cmap=species_cmap, norm=species_norm)\n",
        "ax.set_title(\"t-SNE Map of Mel Spectrograms for Cricket Songs Labeled By Species\")\n",
        "ax.set_xlabel(\"Dimension 1\")\n",
        "ax.set_ylabel(\"Dimension 2\")\n",
        "\n",
        "# create the colorbar and label it\n",
        "cb = plt.colorbar(scat, spacing='proportional',ticks=species_bounds)\n",
        "cb.ax.set_yticklabels(filtered_species_names)\n",
        "\n",
        "# save to correct folder in shared drive\n",
        "plt.savefig(tsne_folder + \"mel_spec_species\" + '.png')"
      ],
      "metadata": {
        "id": "IDZeoE7mYRrG"
      },
      "execution_count": null,
      "outputs": []
    },
    {
      "cell_type": "code",
      "source": [
        "## MFCCS BY GENUS\n",
        "\n",
        "# make the scatter plot\n",
        "fig, ax = plt.subplots(1,1, figsize=(20,20))\n",
        "scat = ax.scatter(x_vals_mfccs_genus, y_vals_mfccs_genus, c=genus_mapping, cmap=genus_cmap, norm=genus_norm)\n",
        "ax.set_title(\"t-SNE Map of MFCCs for Cricket Songs Labeled By Genus\")\n",
        "ax.set_xlabel(\"Dimension 1\")\n",
        "ax.set_ylabel(\"Dimension 2\")\n",
        "\n",
        "# create the colorbar and label it\n",
        "cb = plt.colorbar(scat, spacing='proportional',ticks=genus_bounds)\n",
        "cb.ax.set_yticklabels(filtered_genus_names)\n",
        "\n",
        "# save to correct folder in shared drive\n",
        "plt.savefig(tsne_folder + \"mfccs_genus\" + '.png')"
      ],
      "metadata": {
        "id": "eEqr8ys2YnWK"
      },
      "execution_count": null,
      "outputs": []
    },
    {
      "cell_type": "code",
      "source": [
        "##MFCCs BY SPECIES\n",
        "\n",
        "# make the scatter plot\n",
        "fig, ax = plt.subplots(1,1, figsize=(20,20))\n",
        "scat = ax.scatter(x_vals_mfccs_species, y_vals_mfccs_species, c=species_mapping, cmap=species_cmap, norm=species_norm)\n",
        "ax.set_title(\"t-SNE Map of MFCCs for Cricket Songs Labeled By Species\")\n",
        "ax.set_xlabel(\"Dimension 1\")\n",
        "ax.set_ylabel(\"Dimension 2\")\n",
        "\n",
        "# create the colorbar and label it\n",
        "cb = plt.colorbar(scat, spacing='proportional',ticks=species_bounds)\n",
        "cb.ax.set_yticklabels(filtered_species_names)\n",
        "\n",
        "# save to correct folder in shared drive\n",
        "plt.savefig(tsne_folder + \"mfccs_species\" + '.png')"
      ],
      "metadata": {
        "id": "V35QOtkkY45D"
      },
      "execution_count": null,
      "outputs": []
    },
    {
      "cell_type": "code",
      "source": [
        "## MAGNITUDE POWER SPECS BY GENUS\n",
        "\n",
        "# make the scatter plot\n",
        "fig, ax = plt.subplots(1,1, figsize=(20,20))\n",
        "scat = ax.scatter(x_vals_mps_genus, y_vals_mps_genus, c=genus_mapping, cmap=genus_cmap, norm=genus_norm)\n",
        "ax.set_title(\"t-SNE Map of Magnitude Power Spectrums for Cricket Songs Labeled By Genus\")\n",
        "ax.set_xlabel(\"Dimension 1\")\n",
        "ax.set_ylabel(\"Dimension 2\")\n",
        "\n",
        "# create the colorbar and label it\n",
        "cb = plt.colorbar(scat, spacing='proportional',ticks=genus_bounds)\n",
        "cb.ax.set_yticklabels(filtered_genus_names)\n",
        "\n",
        "# save to correct folder in shared drive\n",
        "plt.savefig(tsne_folder + \"mps_genus\" + '.png')"
      ],
      "metadata": {
        "id": "e7y1tZYMZWpZ"
      },
      "execution_count": null,
      "outputs": []
    },
    {
      "cell_type": "code",
      "source": [
        "##MAGNITUDE POWER SPECS BY SPECIES\n",
        "\n",
        "# make the scatter plot\n",
        "fig, ax = plt.subplots(1,1, figsize=(20,20))\n",
        "scat = ax.scatter(x_vals_mps_species, y_vals_mps_species, c=species_mapping, cmap=species_cmap, norm=species_norm)\n",
        "ax.set_title(\"t-SNE Map of Magnitude Power Spectrums for Cricket Songs Labeled By Species\")\n",
        "ax.set_xlabel(\"Dimension 1\")\n",
        "ax.set_ylabel(\"Dimension 2\")\n",
        "\n",
        "# create the colorbar and label it\n",
        "cb = plt.colorbar(scat, spacing='proportional',ticks=species_bounds)\n",
        "cb.ax.set_yticklabels(filtered_species_names)\n",
        "\n",
        "# save to correct folder in shared drive\n",
        "plt.savefig(tsne_folder + \"mps_species\" + '.png')"
      ],
      "metadata": {
        "id": "11XTt6UBZXE9"
      },
      "execution_count": null,
      "outputs": []
    }
  ],
  "metadata": {
    "colab": {
      "collapsed_sections": [
        "7j2sBeuwEu4d",
        "2gRVh32QE7Ro",
        "Z3eP0-ZXHaTh",
        "0uUb7IPygezt",
        "mbeythqRG363",
        "gsVahvzTRCSL",
        "68cvqpM3Pny3",
        "IzWwCOC7JYtq"
      ],
      "name": "Cricket Song Analysis and Classification -- Dimensionality Reduction",
      "provenance": [],
      "machine_shape": "hm",
      "authorship_tag": "ABX9TyMDJXM0yrcTH2Japfgnr6jF",
      "include_colab_link": true
    },
    "kernelspec": {
      "display_name": "Python 3",
      "name": "python3"
    },
    "language_info": {
      "name": "python"
    }
  },
  "nbformat": 4,
  "nbformat_minor": 0
}